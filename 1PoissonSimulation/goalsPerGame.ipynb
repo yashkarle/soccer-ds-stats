{
 "cells": [
  {
   "cell_type": "code",
   "execution_count": 18,
   "metadata": {},
   "outputs": [],
   "source": [
    "import pandas as pd\n",
    "import numpy as np\n",
    "import json\n",
    "import matplotlib.pyplot as plt\n",
    "from pylab import rcParams"
   ]
  },
  {
   "cell_type": "code",
   "execution_count": 4,
   "metadata": {},
   "outputs": [],
   "source": [
    "with open('data/events/events_Germany.json') as f:\n",
    "    data = json.load(f)"
   ]
  },
  {
   "cell_type": "code",
   "execution_count": 7,
   "metadata": {},
   "outputs": [
    {
     "data": {
      "text/html": [
       "<div>\n",
       "<style scoped>\n",
       "    .dataframe tbody tr th:only-of-type {\n",
       "        vertical-align: middle;\n",
       "    }\n",
       "\n",
       "    .dataframe tbody tr th {\n",
       "        vertical-align: top;\n",
       "    }\n",
       "\n",
       "    .dataframe thead th {\n",
       "        text-align: right;\n",
       "    }\n",
       "</style>\n",
       "<table border=\"1\" class=\"dataframe\">\n",
       "  <thead>\n",
       "    <tr style=\"text-align: right;\">\n",
       "      <th></th>\n",
       "      <th>eventId</th>\n",
       "      <th>subEventName</th>\n",
       "      <th>tags</th>\n",
       "      <th>playerId</th>\n",
       "      <th>positions</th>\n",
       "      <th>matchId</th>\n",
       "      <th>eventName</th>\n",
       "      <th>teamId</th>\n",
       "      <th>matchPeriod</th>\n",
       "      <th>eventSec</th>\n",
       "      <th>subEventId</th>\n",
       "      <th>id</th>\n",
       "    </tr>\n",
       "  </thead>\n",
       "  <tbody>\n",
       "    <tr>\n",
       "      <th>0</th>\n",
       "      <td>8</td>\n",
       "      <td>Simple pass</td>\n",
       "      <td>[{'id': 1801}]</td>\n",
       "      <td>15231</td>\n",
       "      <td>[{'y': 50, 'x': 50}, {'y': 48, 'x': 50}]</td>\n",
       "      <td>2516739</td>\n",
       "      <td>Pass</td>\n",
       "      <td>2446</td>\n",
       "      <td>1H</td>\n",
       "      <td>2.409746</td>\n",
       "      <td>85</td>\n",
       "      <td>179896442</td>\n",
       "    </tr>\n",
       "    <tr>\n",
       "      <th>1</th>\n",
       "      <td>8</td>\n",
       "      <td>Simple pass</td>\n",
       "      <td>[{'id': 1801}]</td>\n",
       "      <td>14786</td>\n",
       "      <td>[{'y': 48, 'x': 50}, {'y': 22, 'x': 22}]</td>\n",
       "      <td>2516739</td>\n",
       "      <td>Pass</td>\n",
       "      <td>2446</td>\n",
       "      <td>1H</td>\n",
       "      <td>2.506082</td>\n",
       "      <td>85</td>\n",
       "      <td>179896443</td>\n",
       "    </tr>\n",
       "    <tr>\n",
       "      <th>2</th>\n",
       "      <td>8</td>\n",
       "      <td>Simple pass</td>\n",
       "      <td>[{'id': 1801}]</td>\n",
       "      <td>14803</td>\n",
       "      <td>[{'y': 22, 'x': 22}, {'y': 46, 'x': 6}]</td>\n",
       "      <td>2516739</td>\n",
       "      <td>Pass</td>\n",
       "      <td>2446</td>\n",
       "      <td>1H</td>\n",
       "      <td>6.946706</td>\n",
       "      <td>85</td>\n",
       "      <td>179896444</td>\n",
       "    </tr>\n",
       "    <tr>\n",
       "      <th>3</th>\n",
       "      <td>8</td>\n",
       "      <td>Simple pass</td>\n",
       "      <td>[{'id': 1801}]</td>\n",
       "      <td>14768</td>\n",
       "      <td>[{'y': 46, 'x': 6}, {'y': 10, 'x': 20}]</td>\n",
       "      <td>2516739</td>\n",
       "      <td>Pass</td>\n",
       "      <td>2446</td>\n",
       "      <td>1H</td>\n",
       "      <td>10.786491</td>\n",
       "      <td>85</td>\n",
       "      <td>179896445</td>\n",
       "    </tr>\n",
       "    <tr>\n",
       "      <th>4</th>\n",
       "      <td>8</td>\n",
       "      <td>Simple pass</td>\n",
       "      <td>[{'id': 1801}]</td>\n",
       "      <td>14803</td>\n",
       "      <td>[{'y': 10, 'x': 20}, {'y': 4, 'x': 27}]</td>\n",
       "      <td>2516739</td>\n",
       "      <td>Pass</td>\n",
       "      <td>2446</td>\n",
       "      <td>1H</td>\n",
       "      <td>12.684514</td>\n",
       "      <td>85</td>\n",
       "      <td>179896446</td>\n",
       "    </tr>\n",
       "  </tbody>\n",
       "</table>\n",
       "</div>"
      ],
      "text/plain": [
       "   eventId subEventName            tags  playerId  \\\n",
       "0        8  Simple pass  [{'id': 1801}]     15231   \n",
       "1        8  Simple pass  [{'id': 1801}]     14786   \n",
       "2        8  Simple pass  [{'id': 1801}]     14803   \n",
       "3        8  Simple pass  [{'id': 1801}]     14768   \n",
       "4        8  Simple pass  [{'id': 1801}]     14803   \n",
       "\n",
       "                                  positions  matchId eventName  teamId  \\\n",
       "0  [{'y': 50, 'x': 50}, {'y': 48, 'x': 50}]  2516739      Pass    2446   \n",
       "1  [{'y': 48, 'x': 50}, {'y': 22, 'x': 22}]  2516739      Pass    2446   \n",
       "2   [{'y': 22, 'x': 22}, {'y': 46, 'x': 6}]  2516739      Pass    2446   \n",
       "3   [{'y': 46, 'x': 6}, {'y': 10, 'x': 20}]  2516739      Pass    2446   \n",
       "4   [{'y': 10, 'x': 20}, {'y': 4, 'x': 27}]  2516739      Pass    2446   \n",
       "\n",
       "  matchPeriod   eventSec subEventId         id  \n",
       "0          1H   2.409746         85  179896442  \n",
       "1          1H   2.506082         85  179896443  \n",
       "2          1H   6.946706         85  179896444  \n",
       "3          1H  10.786491         85  179896445  \n",
       "4          1H  12.684514         85  179896446  "
      ]
     },
     "execution_count": 7,
     "metadata": {},
     "output_type": "execute_result"
    }
   ],
   "source": [
    "data_df = pd.DataFrame(data)\n",
    "data_df.head()"
   ]
  },
  {
   "cell_type": "code",
   "execution_count": 10,
   "metadata": {},
   "outputs": [],
   "source": [
    "# Identify the goals and add them to a column\n",
    "\n",
    "shots = data_df[data_df['subEventName'].isin(['Shot','Free kick shot','Penalty'])]"
   ]
  },
  {
   "cell_type": "code",
   "execution_count": 12,
   "metadata": {},
   "outputs": [
    {
     "data": {
      "text/plain": [
       "833"
      ]
     },
     "execution_count": 12,
     "metadata": {},
     "output_type": "execute_result"
    }
   ],
   "source": [
    "shots = shots.assign(Goal=0)\n",
    "for i,shot in shots.iterrows():\n",
    "    for shottags in shot['tags']:\n",
    "            #Tags contain that it's a goal\n",
    "            if shottags['id']==101:\n",
    "                shots.at[i,'Goal']=1\n",
    "sum(shots['Goal'])"
   ]
  },
  {
   "cell_type": "code",
   "execution_count": 13,
   "metadata": {
    "scrolled": true
   },
   "outputs": [
    {
     "data": {
      "text/plain": [
       "[2516739,\n",
       " 2516740,\n",
       " 2516741,\n",
       " 2516742,\n",
       " 2516743,\n",
       " 2516744,\n",
       " 2516745,\n",
       " 2516746,\n",
       " 2516747,\n",
       " 2516748,\n",
       " 2516749,\n",
       " 2516750,\n",
       " 2516751,\n",
       " 2516752,\n",
       " 2516753,\n",
       " 2516754,\n",
       " 2516755,\n",
       " 2516756,\n",
       " 2516757,\n",
       " 2516758,\n",
       " 2516759,\n",
       " 2516760,\n",
       " 2516761,\n",
       " 2516762,\n",
       " 2516763,\n",
       " 2516764,\n",
       " 2516765,\n",
       " 2516766,\n",
       " 2516767,\n",
       " 2516768,\n",
       " 2516769,\n",
       " 2516770,\n",
       " 2516771,\n",
       " 2516772,\n",
       " 2516773,\n",
       " 2516774,\n",
       " 2516775,\n",
       " 2516776,\n",
       " 2516777,\n",
       " 2516778,\n",
       " 2516779,\n",
       " 2516780,\n",
       " 2516781,\n",
       " 2516782,\n",
       " 2516783,\n",
       " 2516784,\n",
       " 2516785,\n",
       " 2516786,\n",
       " 2516787,\n",
       " 2516788,\n",
       " 2516789,\n",
       " 2516790,\n",
       " 2516791,\n",
       " 2516792,\n",
       " 2516793,\n",
       " 2516794,\n",
       " 2516795,\n",
       " 2516796,\n",
       " 2516797,\n",
       " 2516798,\n",
       " 2516799,\n",
       " 2516800,\n",
       " 2516801,\n",
       " 2516802,\n",
       " 2516803,\n",
       " 2516804,\n",
       " 2516805,\n",
       " 2516806,\n",
       " 2516807,\n",
       " 2516808,\n",
       " 2516809,\n",
       " 2516810,\n",
       " 2516811,\n",
       " 2516812,\n",
       " 2516813,\n",
       " 2516814,\n",
       " 2516815,\n",
       " 2516816,\n",
       " 2516817,\n",
       " 2516818,\n",
       " 2516819,\n",
       " 2516820,\n",
       " 2516821,\n",
       " 2516822,\n",
       " 2516823,\n",
       " 2516824,\n",
       " 2516825,\n",
       " 2516826,\n",
       " 2516827,\n",
       " 2516828,\n",
       " 2516829,\n",
       " 2516830,\n",
       " 2516831,\n",
       " 2516832,\n",
       " 2516833,\n",
       " 2516834,\n",
       " 2516835,\n",
       " 2516836,\n",
       " 2516837,\n",
       " 2516838,\n",
       " 2516839,\n",
       " 2516840,\n",
       " 2516841,\n",
       " 2516842,\n",
       " 2516843,\n",
       " 2516844,\n",
       " 2516845,\n",
       " 2516846,\n",
       " 2516847,\n",
       " 2516848,\n",
       " 2516849,\n",
       " 2516850,\n",
       " 2516851,\n",
       " 2516852,\n",
       " 2516853,\n",
       " 2516854,\n",
       " 2516855,\n",
       " 2516856,\n",
       " 2516857,\n",
       " 2516858,\n",
       " 2516859,\n",
       " 2516860,\n",
       " 2516861,\n",
       " 2516862,\n",
       " 2516863,\n",
       " 2516864,\n",
       " 2516865,\n",
       " 2516866,\n",
       " 2516867,\n",
       " 2516868,\n",
       " 2516869,\n",
       " 2516870,\n",
       " 2516871,\n",
       " 2516872,\n",
       " 2516873,\n",
       " 2516874,\n",
       " 2516875,\n",
       " 2516876,\n",
       " 2516877,\n",
       " 2516878,\n",
       " 2516879,\n",
       " 2516880,\n",
       " 2516881,\n",
       " 2516882,\n",
       " 2516883,\n",
       " 2516884,\n",
       " 2516885,\n",
       " 2516886,\n",
       " 2516887,\n",
       " 2516888,\n",
       " 2516889,\n",
       " 2516890,\n",
       " 2516891,\n",
       " 2516892,\n",
       " 2516893,\n",
       " 2516894,\n",
       " 2516895,\n",
       " 2516896,\n",
       " 2516897,\n",
       " 2516898,\n",
       " 2516899,\n",
       " 2516900,\n",
       " 2516901,\n",
       " 2516902,\n",
       " 2516903,\n",
       " 2516904,\n",
       " 2516905,\n",
       " 2516906,\n",
       " 2516907,\n",
       " 2516908,\n",
       " 2516909,\n",
       " 2516910,\n",
       " 2516911,\n",
       " 2516912,\n",
       " 2516913,\n",
       " 2516914,\n",
       " 2516915,\n",
       " 2516916,\n",
       " 2516917,\n",
       " 2516918,\n",
       " 2516919,\n",
       " 2516920,\n",
       " 2516921,\n",
       " 2516922,\n",
       " 2516923,\n",
       " 2516924,\n",
       " 2516925,\n",
       " 2516926,\n",
       " 2516927,\n",
       " 2516928,\n",
       " 2516929,\n",
       " 2516930,\n",
       " 2516931,\n",
       " 2516932,\n",
       " 2516933,\n",
       " 2516934,\n",
       " 2516935,\n",
       " 2516936,\n",
       " 2516937,\n",
       " 2516938,\n",
       " 2516939,\n",
       " 2516940,\n",
       " 2516941,\n",
       " 2516942,\n",
       " 2516943,\n",
       " 2516944,\n",
       " 2516945,\n",
       " 2516946,\n",
       " 2516947,\n",
       " 2516948,\n",
       " 2516949,\n",
       " 2516950,\n",
       " 2516951,\n",
       " 2516952,\n",
       " 2516953,\n",
       " 2516954,\n",
       " 2516955,\n",
       " 2516956,\n",
       " 2516957,\n",
       " 2516958,\n",
       " 2516959,\n",
       " 2516960,\n",
       " 2516961,\n",
       " 2516962,\n",
       " 2516963,\n",
       " 2516964,\n",
       " 2516965,\n",
       " 2516966,\n",
       " 2516967,\n",
       " 2516968,\n",
       " 2516969,\n",
       " 2516970,\n",
       " 2516971,\n",
       " 2516972,\n",
       " 2516973,\n",
       " 2516974,\n",
       " 2516975,\n",
       " 2516976,\n",
       " 2516977,\n",
       " 2516978,\n",
       " 2516979,\n",
       " 2516980,\n",
       " 2516981,\n",
       " 2516982,\n",
       " 2516983,\n",
       " 2516984,\n",
       " 2516985,\n",
       " 2516986,\n",
       " 2516987,\n",
       " 2516988,\n",
       " 2516989,\n",
       " 2516990,\n",
       " 2516991,\n",
       " 2516992,\n",
       " 2516993,\n",
       " 2516994,\n",
       " 2516995,\n",
       " 2516996,\n",
       " 2516997,\n",
       " 2516998,\n",
       " 2516999,\n",
       " 2517000,\n",
       " 2517001,\n",
       " 2517002,\n",
       " 2517003,\n",
       " 2517004,\n",
       " 2517005,\n",
       " 2517006,\n",
       " 2517007,\n",
       " 2517008,\n",
       " 2517009,\n",
       " 2517010,\n",
       " 2517011,\n",
       " 2517012,\n",
       " 2517013,\n",
       " 2517014,\n",
       " 2517015,\n",
       " 2517016,\n",
       " 2517017,\n",
       " 2517018,\n",
       " 2517019,\n",
       " 2517020,\n",
       " 2517021,\n",
       " 2517022,\n",
       " 2517023,\n",
       " 2517024,\n",
       " 2517025,\n",
       " 2517026,\n",
       " 2517027,\n",
       " 2517028,\n",
       " 2517029,\n",
       " 2517030,\n",
       " 2517031,\n",
       " 2517032,\n",
       " 2517033,\n",
       " 2517034,\n",
       " 2517035,\n",
       " 2517036,\n",
       " 2517037,\n",
       " 2517038,\n",
       " 2517039,\n",
       " 2517040,\n",
       " 2517041,\n",
       " 2517042,\n",
       " 2517043,\n",
       " 2517044]"
      ]
     },
     "execution_count": 13,
     "metadata": {},
     "output_type": "execute_result"
    }
   ],
   "source": [
    "match_list = shots['matchId'].unique().tolist()\n",
    "match_list"
   ]
  },
  {
   "cell_type": "code",
   "execution_count": 14,
   "metadata": {},
   "outputs": [],
   "source": [
    "# fetch number of shots and goals in each of the matches\n",
    "\n",
    "num_matches = len(match_list)\n",
    "shots_in_match = []\n",
    "goals_in_match = []\n",
    "\n",
    "for match in match_list:\n",
    "    shots_in_match.append(len(shots[shots['matchId']==match]))\n",
    "    goals_in_match.append(len(shots[np.logical_and(shots['matchId']==match, (shots['Goal']==1))]))"
   ]
  },
  {
   "cell_type": "code",
   "execution_count": 22,
   "metadata": {},
   "outputs": [],
   "source": [
    "# Make histogram of goals\n",
    "\n",
    "mean_goals = np.mean(goals_in_match)\n",
    "goals_dist,goals_bins = np.histogram(goals_in_match, bins = np.arange(-0.5,10.5))\n",
    "goals_dist = goals_dist/num_matches"
   ]
  },
  {
   "cell_type": "code",
   "execution_count": 24,
   "metadata": {},
   "outputs": [
    {
     "name": "stdout",
     "output_type": "stream",
     "text": [
      "2.7222222222222223\n",
      "[-0.5  0.5  1.5  2.5  3.5  4.5  5.5  6.5  7.5  8.5  9.5]\n",
      "[0.07843137 0.14052288 0.27777778 0.20915033 0.15686275 0.0751634\n",
      " 0.04575163 0.00980392 0.00653595 0.        ]\n"
     ]
    }
   ],
   "source": [
    "print(mean_goals)\n",
    "print(goals_bins)\n",
    "print(goals_dist)"
   ]
  },
  {
   "cell_type": "code",
   "execution_count": 46,
   "metadata": {},
   "outputs": [],
   "source": [
    "# Make Poisson distribution\n",
    "\n",
    "g = np.arange(0,10)\n",
    "Poisson_g = np.zeros(10)\n",
    "for i,k in enumerate(g):\n",
    "    Poisson_g[i] = np.power(mean_goals,k)*np.exp(-mean_goals)/np.math.factorial(k)"
   ]
  },
  {
   "cell_type": "code",
   "execution_count": 29,
   "metadata": {},
   "outputs": [
    {
     "name": "stdout",
     "output_type": "stream",
     "text": [
      "[0 1 2 3 4 5 6 7 8 9]\n",
      "[0.06572853 0.17892766 0.24354043 0.22099039 0.15039624 0.0818824\n",
      " 0.03715035 0.01444736 0.00491611 0.00148697]\n"
     ]
    }
   ],
   "source": [
    "print(g)\n",
    "print(Poisson_g)"
   ]
  },
  {
   "cell_type": "code",
   "execution_count": 47,
   "metadata": {},
   "outputs": [
    {
     "data": {
      "text/plain": [
       "array([-0.5,  0.5,  1.5,  2.5,  3.5,  4.5,  5.5,  6.5,  7.5,  8.5])"
      ]
     },
     "execution_count": 47,
     "metadata": {},
     "output_type": "execute_result"
    }
   ],
   "source": [
    "g-0.5"
   ]
  },
  {
   "cell_type": "code",
   "execution_count": 30,
   "metadata": {},
   "outputs": [
    {
     "data": {
      "image/png": "[encoded data removed]",
      "text/plain": [
       "<Figure size 340.157x226.772 with 1 Axes>"
      ]
     },
     "metadata": {
      "needs_background": "light"
     },
     "output_type": "display_data"
    }
   ],
   "source": [
    "# set up figure\n",
    "fig = plt.figure()\n",
    "rcParams['figure.figsize'] = 12/2.54, 8/2.54\n",
    "ax = fig.add_subplot(1,1,1)\n",
    "\n",
    "#Plot data\n",
    "plt.hist(g-0.5,9, weights=goals_dist)\n",
    "plt.plot(g, Poisson_g, color='black')\n",
    "ax.set_yticks(np.arange(0,0.3,0.1)) \n",
    "ax.spines['left'].set_visible(True)\n",
    "ax.spines['bottom'].set_position('zero')    \n",
    "ax.spines['top'].set_visible(False)\n",
    "ax.spines['right'].set_visible(False)\n",
    "ax.set_xticks(np.arange(0,10,1))\n",
    "ax.set_ylabel('Proportion of matches')\n",
    "ax.set_xlabel('Number of goals scored')\n",
    "plt.show()    "
   ]
  },
  {
   "cell_type": "code",
   "execution_count": 31,
   "metadata": {},
   "outputs": [],
   "source": [
    "fig.savefig('output/PoissonDistributionGoals.pdf' , dpi=None, bbox_inches=\"tight\")"
   ]
  },
  {
   "cell_type": "code",
   "execution_count": null,
   "metadata": {},
   "outputs": [],
   "source": [
    "Exercise:\n",
    "#1 Make a histogram of shots per game\n",
    "#2 Find the mean and standard deviation for shots per game \n",
    "#3 Show that shots per game is roughtly normally distributed."
   ]
  },
  {
   "cell_type": "code",
   "execution_count": 39,
   "metadata": {},
   "outputs": [
    {
     "data": {
      "text/plain": [
       "39"
      ]
     },
     "execution_count": 39,
     "metadata": {},
     "output_type": "execute_result"
    }
   ],
   "source": [
    "max(shots_in_match)"
   ]
  },
  {
   "cell_type": "code",
   "execution_count": null,
   "metadata": {},
   "outputs": [],
   "source": [
    "# Make histogram of shots\n",
    "\n",
    "mean_shots = np.mean(shots_in_match)\n",
    "shots_dist,shots_bins = np.histogram(shots_in_match, bins = np.arange(5,40))\n",
    "shots_dist = shots_dist/num_matches"
   ]
  },
  {
   "cell_type": "code",
   "execution_count": 43,
   "metadata": {},
   "outputs": [
    {
     "name": "stdout",
     "output_type": "stream",
     "text": [
      "23.823529411764707\n",
      "[ 0  1  2  3  4  5  6  7  8  9 10 11 12 13 14 15 16 17 18 19 20 21 22 23\n",
      " 24 25 26 27 28 29 30 31 32 33 34 35 36 37 38 39]\n",
      "[0.         0.         0.         0.         0.         0.\n",
      " 0.         0.         0.         0.         0.         0.00326797\n",
      " 0.00980392 0.00980392 0.00980392 0.0130719  0.02941176 0.02941176\n",
      " 0.05555556 0.04901961 0.04575163 0.08169935 0.09803922 0.07843137\n",
      " 0.06862745 0.09150327 0.05882353 0.04901961 0.04248366 0.03267974\n",
      " 0.02287582 0.01633987 0.02614379 0.0130719  0.02287582 0.0130719\n",
      " 0.00653595 0.01633987 0.00653595]\n"
     ]
    }
   ],
   "source": [
    "print(mean_shots)\n",
    "print(shots_bins)\n",
    "print(shots_dist)"
   ]
  },
  {
   "cell_type": "code",
   "execution_count": 54,
   "metadata": {},
   "outputs": [
    {
     "data": {
      "text/plain": [
       "(39,)"
      ]
     },
     "execution_count": 54,
     "metadata": {},
     "output_type": "execute_result"
    }
   ],
   "source": [
    "shots_dist.shape"
   ]
  },
  {
   "cell_type": "code",
   "execution_count": 57,
   "metadata": {},
   "outputs": [
    {
     "data": {
      "text/plain": [
       "(40,)"
      ]
     },
     "execution_count": 57,
     "metadata": {},
     "output_type": "execute_result"
    }
   ],
   "source": [
    "((g-1)).shape"
   ]
  },
  {
   "cell_type": "code",
   "execution_count": 63,
   "metadata": {},
   "outputs": [
    {
     "data": {
      "image/png": "[encoded data removed]",
      "text/plain": [
       "<Figure size 1440x1440 with 1 Axes>"
      ]
     },
     "metadata": {
      "needs_background": "light"
     },
     "output_type": "display_data"
    }
   ],
   "source": [
    "# set up figure\n",
    "fig = plt.figure()\n",
    "rcParams['figure.figsize'] = 17, 17\n",
    "\n",
    "ax = fig.add_subplot(1,1,1)\n",
    "\n",
    "#Plot data\n",
    "g = np.arange(0,39)\n",
    "plt.hist(g-1,39, weights=shots_dist)\n",
    "# plt.plot(g,Poisson_g, color='black')\n",
    "ax.set_yticks(np.arange(0,0.2,0.05)) \n",
    "ax.spines['left'].set_visible(True)\n",
    "ax.spines['bottom'].set_position('zero')    \n",
    "ax.spines['top'].set_visible(False)\n",
    "ax.spines['right'].set_visible(False)\n",
    "ax.set_xticks(np.arange(0,40,1))\n",
    "ax.set_ylabel('Proportion of matches')\n",
    "ax.set_xlabel('Number of shots taken')\n",
    "plt.show()    "
   ]
  }
 ],
 "metadata": {
  "kernelspec": {
   "display_name": "Python 3",
   "language": "python",
   "name": "python3"
  },
  "language_info": {
   "codemirror_mode": {
    "name": "ipython",
    "version": 3
   },
   "file_extension": ".py",
   "mimetype": "text/x-python",
   "name": "python",
   "nbconvert_exporter": "python",
   "pygments_lexer": "ipython3",
   "version": "3.7.6"
  }
 },
 "nbformat": 4,
 "nbformat_minor": 4
}
