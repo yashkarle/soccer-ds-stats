{
 "cells": [
  {
   "cell_type": "code",
   "execution_count": 1,
   "metadata": {},
   "outputs": [],
   "source": [
    "import pandas as pd\n",
    "import numpy as np\n",
    "import json\n",
    "import matplotlib.pyplot as plt\n",
    "import matplotlib"
   ]
  },
  {
   "cell_type": "code",
   "execution_count": 2,
   "metadata": {},
   "outputs": [],
   "source": [
    "with open('data/events/events_England.json') as f:\n",
    "    data = json.load(f)\n",
    "\n",
    "data_df = pd.DataFrame(data)"
   ]
  },
  {
   "cell_type": "code",
   "execution_count": 3,
   "metadata": {},
   "outputs": [
    {
     "data": {
      "text/html": [
       "<div>\n",
       "<style scoped>\n",
       "    .dataframe tbody tr th:only-of-type {\n",
       "        vertical-align: middle;\n",
       "    }\n",
       "\n",
       "    .dataframe tbody tr th {\n",
       "        vertical-align: top;\n",
       "    }\n",
       "\n",
       "    .dataframe thead th {\n",
       "        text-align: right;\n",
       "    }\n",
       "</style>\n",
       "<table border=\"1\" class=\"dataframe\">\n",
       "  <thead>\n",
       "    <tr style=\"text-align: right;\">\n",
       "      <th></th>\n",
       "      <th>eventId</th>\n",
       "      <th>subEventName</th>\n",
       "      <th>tags</th>\n",
       "      <th>playerId</th>\n",
       "      <th>positions</th>\n",
       "      <th>matchId</th>\n",
       "      <th>eventName</th>\n",
       "      <th>teamId</th>\n",
       "      <th>matchPeriod</th>\n",
       "      <th>eventSec</th>\n",
       "      <th>subEventId</th>\n",
       "      <th>id</th>\n",
       "    </tr>\n",
       "  </thead>\n",
       "  <tbody>\n",
       "    <tr>\n",
       "      <th>0</th>\n",
       "      <td>8</td>\n",
       "      <td>Simple pass</td>\n",
       "      <td>[{'id': 1801}]</td>\n",
       "      <td>25413</td>\n",
       "      <td>[{'y': 49, 'x': 49}, {'y': 78, 'x': 31}]</td>\n",
       "      <td>2499719</td>\n",
       "      <td>Pass</td>\n",
       "      <td>1609</td>\n",
       "      <td>1H</td>\n",
       "      <td>2.758649</td>\n",
       "      <td>85</td>\n",
       "      <td>177959171</td>\n",
       "    </tr>\n",
       "    <tr>\n",
       "      <th>1</th>\n",
       "      <td>8</td>\n",
       "      <td>High pass</td>\n",
       "      <td>[{'id': 1801}]</td>\n",
       "      <td>370224</td>\n",
       "      <td>[{'y': 78, 'x': 31}, {'y': 75, 'x': 51}]</td>\n",
       "      <td>2499719</td>\n",
       "      <td>Pass</td>\n",
       "      <td>1609</td>\n",
       "      <td>1H</td>\n",
       "      <td>4.946850</td>\n",
       "      <td>83</td>\n",
       "      <td>177959172</td>\n",
       "    </tr>\n",
       "    <tr>\n",
       "      <th>2</th>\n",
       "      <td>8</td>\n",
       "      <td>Head pass</td>\n",
       "      <td>[{'id': 1801}]</td>\n",
       "      <td>3319</td>\n",
       "      <td>[{'y': 75, 'x': 51}, {'y': 71, 'x': 35}]</td>\n",
       "      <td>2499719</td>\n",
       "      <td>Pass</td>\n",
       "      <td>1609</td>\n",
       "      <td>1H</td>\n",
       "      <td>6.542188</td>\n",
       "      <td>82</td>\n",
       "      <td>177959173</td>\n",
       "    </tr>\n",
       "    <tr>\n",
       "      <th>3</th>\n",
       "      <td>8</td>\n",
       "      <td>Head pass</td>\n",
       "      <td>[{'id': 1801}]</td>\n",
       "      <td>120339</td>\n",
       "      <td>[{'y': 71, 'x': 35}, {'y': 95, 'x': 41}]</td>\n",
       "      <td>2499719</td>\n",
       "      <td>Pass</td>\n",
       "      <td>1609</td>\n",
       "      <td>1H</td>\n",
       "      <td>8.143395</td>\n",
       "      <td>82</td>\n",
       "      <td>177959174</td>\n",
       "    </tr>\n",
       "    <tr>\n",
       "      <th>4</th>\n",
       "      <td>8</td>\n",
       "      <td>Simple pass</td>\n",
       "      <td>[{'id': 1801}]</td>\n",
       "      <td>167145</td>\n",
       "      <td>[{'y': 95, 'x': 41}, {'y': 88, 'x': 72}]</td>\n",
       "      <td>2499719</td>\n",
       "      <td>Pass</td>\n",
       "      <td>1609</td>\n",
       "      <td>1H</td>\n",
       "      <td>10.302366</td>\n",
       "      <td>85</td>\n",
       "      <td>177959175</td>\n",
       "    </tr>\n",
       "  </tbody>\n",
       "</table>\n",
       "</div>"
      ],
      "text/plain": [
       "   eventId subEventName            tags  playerId  \\\n",
       "0        8  Simple pass  [{'id': 1801}]     25413   \n",
       "1        8    High pass  [{'id': 1801}]    370224   \n",
       "2        8    Head pass  [{'id': 1801}]      3319   \n",
       "3        8    Head pass  [{'id': 1801}]    120339   \n",
       "4        8  Simple pass  [{'id': 1801}]    167145   \n",
       "\n",
       "                                  positions  matchId eventName  teamId  \\\n",
       "0  [{'y': 49, 'x': 49}, {'y': 78, 'x': 31}]  2499719      Pass    1609   \n",
       "1  [{'y': 78, 'x': 31}, {'y': 75, 'x': 51}]  2499719      Pass    1609   \n",
       "2  [{'y': 75, 'x': 51}, {'y': 71, 'x': 35}]  2499719      Pass    1609   \n",
       "3  [{'y': 71, 'x': 35}, {'y': 95, 'x': 41}]  2499719      Pass    1609   \n",
       "4  [{'y': 95, 'x': 41}, {'y': 88, 'x': 72}]  2499719      Pass    1609   \n",
       "\n",
       "  matchPeriod   eventSec subEventId         id  \n",
       "0          1H   2.758649         85  177959171  \n",
       "1          1H   4.946850         83  177959172  \n",
       "2          1H   6.542188         82  177959173  \n",
       "3          1H   8.143395         82  177959174  \n",
       "4          1H  10.302366         85  177959175  "
      ]
     },
     "execution_count": 3,
     "metadata": {},
     "output_type": "execute_result"
    }
   ],
   "source": [
    "data_df.head()"
   ]
  },
  {
   "cell_type": "code",
   "execution_count": 5,
   "metadata": {},
   "outputs": [],
   "source": [
    "shots = data_df[data_df['subEventName']=='Shot']\n",
    "shots = shots.assign(Goal = 0)"
   ]
  },
  {
   "cell_type": "code",
   "execution_count": 6,
   "metadata": {},
   "outputs": [],
   "source": [
    "for i,shot in shots.iterrows():\n",
    "    for shottags in shot['tags']:\n",
    "            #Tags contain that its a goal\n",
    "            if shottags['id']==101:\n",
    "                shots.at[i,'Goal']=1"
   ]
  },
  {
   "cell_type": "code",
   "execution_count": 7,
   "metadata": {},
   "outputs": [
    {
     "data": {
      "text/html": [
       "<div>\n",
       "<style scoped>\n",
       "    .dataframe tbody tr th:only-of-type {\n",
       "        vertical-align: middle;\n",
       "    }\n",
       "\n",
       "    .dataframe tbody tr th {\n",
       "        vertical-align: top;\n",
       "    }\n",
       "\n",
       "    .dataframe thead th {\n",
       "        text-align: right;\n",
       "    }\n",
       "</style>\n",
       "<table border=\"1\" class=\"dataframe\">\n",
       "  <thead>\n",
       "    <tr style=\"text-align: right;\">\n",
       "      <th></th>\n",
       "      <th>eventId</th>\n",
       "      <th>subEventName</th>\n",
       "      <th>tags</th>\n",
       "      <th>playerId</th>\n",
       "      <th>positions</th>\n",
       "      <th>matchId</th>\n",
       "      <th>eventName</th>\n",
       "      <th>teamId</th>\n",
       "      <th>matchPeriod</th>\n",
       "      <th>eventSec</th>\n",
       "      <th>subEventId</th>\n",
       "      <th>id</th>\n",
       "      <th>Goal</th>\n",
       "    </tr>\n",
       "  </thead>\n",
       "  <tbody>\n",
       "    <tr>\n",
       "      <th>46</th>\n",
       "      <td>10</td>\n",
       "      <td>Shot</td>\n",
       "      <td>[{'id': 101}, {'id': 402}, {'id': 201}, {'id':...</td>\n",
       "      <td>25413</td>\n",
       "      <td>[{'y': 41, 'x': 88}, {'y': 0, 'x': 0}]</td>\n",
       "      <td>2499719</td>\n",
       "      <td>Shot</td>\n",
       "      <td>1609</td>\n",
       "      <td>1H</td>\n",
       "      <td>94.595788</td>\n",
       "      <td>100</td>\n",
       "      <td>177959212</td>\n",
       "      <td>1</td>\n",
       "    </tr>\n",
       "    <tr>\n",
       "      <th>62</th>\n",
       "      <td>10</td>\n",
       "      <td>Shot</td>\n",
       "      <td>[{'id': 401}, {'id': 201}, {'id': 1211}, {'id'...</td>\n",
       "      <td>26150</td>\n",
       "      <td>[{'y': 52, 'x': 85}, {'y': 100, 'x': 100}]</td>\n",
       "      <td>2499719</td>\n",
       "      <td>Shot</td>\n",
       "      <td>1631</td>\n",
       "      <td>1H</td>\n",
       "      <td>179.854785</td>\n",
       "      <td>100</td>\n",
       "      <td>177959247</td>\n",
       "      <td>0</td>\n",
       "    </tr>\n",
       "    <tr>\n",
       "      <th>91</th>\n",
       "      <td>10</td>\n",
       "      <td>Shot</td>\n",
       "      <td>[{'id': 101}, {'id': 403}, {'id': 201}, {'id':...</td>\n",
       "      <td>14763</td>\n",
       "      <td>[{'y': 52, 'x': 96}, {'y': 100, 'x': 100}]</td>\n",
       "      <td>2499719</td>\n",
       "      <td>Shot</td>\n",
       "      <td>1631</td>\n",
       "      <td>1H</td>\n",
       "      <td>254.745027</td>\n",
       "      <td>100</td>\n",
       "      <td>177959280</td>\n",
       "      <td>1</td>\n",
       "    </tr>\n",
       "    <tr>\n",
       "      <th>128</th>\n",
       "      <td>10</td>\n",
       "      <td>Shot</td>\n",
       "      <td>[{'id': 401}, {'id': 201}, {'id': 1215}, {'id'...</td>\n",
       "      <td>7868</td>\n",
       "      <td>[{'y': 33, 'x': 81}, {'y': 0, 'x': 0}]</td>\n",
       "      <td>2499719</td>\n",
       "      <td>Shot</td>\n",
       "      <td>1609</td>\n",
       "      <td>1H</td>\n",
       "      <td>425.824035</td>\n",
       "      <td>100</td>\n",
       "      <td>177959289</td>\n",
       "      <td>0</td>\n",
       "    </tr>\n",
       "    <tr>\n",
       "      <th>249</th>\n",
       "      <td>10</td>\n",
       "      <td>Shot</td>\n",
       "      <td>[{'id': 402}, {'id': 201}, {'id': 1205}, {'id'...</td>\n",
       "      <td>7868</td>\n",
       "      <td>[{'y': 30, 'x': 75}, {'y': 0, 'x': 0}]</td>\n",
       "      <td>2499719</td>\n",
       "      <td>Shot</td>\n",
       "      <td>1609</td>\n",
       "      <td>1H</td>\n",
       "      <td>815.462015</td>\n",
       "      <td>100</td>\n",
       "      <td>177959429</td>\n",
       "      <td>0</td>\n",
       "    </tr>\n",
       "  </tbody>\n",
       "</table>\n",
       "</div>"
      ],
      "text/plain": [
       "     eventId subEventName                                               tags  \\\n",
       "46        10         Shot  [{'id': 101}, {'id': 402}, {'id': 201}, {'id':...   \n",
       "62        10         Shot  [{'id': 401}, {'id': 201}, {'id': 1211}, {'id'...   \n",
       "91        10         Shot  [{'id': 101}, {'id': 403}, {'id': 201}, {'id':...   \n",
       "128       10         Shot  [{'id': 401}, {'id': 201}, {'id': 1215}, {'id'...   \n",
       "249       10         Shot  [{'id': 402}, {'id': 201}, {'id': 1205}, {'id'...   \n",
       "\n",
       "     playerId                                   positions  matchId eventName  \\\n",
       "46      25413      [{'y': 41, 'x': 88}, {'y': 0, 'x': 0}]  2499719      Shot   \n",
       "62      26150  [{'y': 52, 'x': 85}, {'y': 100, 'x': 100}]  2499719      Shot   \n",
       "91      14763  [{'y': 52, 'x': 96}, {'y': 100, 'x': 100}]  2499719      Shot   \n",
       "128      7868      [{'y': 33, 'x': 81}, {'y': 0, 'x': 0}]  2499719      Shot   \n",
       "249      7868      [{'y': 30, 'x': 75}, {'y': 0, 'x': 0}]  2499719      Shot   \n",
       "\n",
       "     teamId matchPeriod    eventSec subEventId         id  Goal  \n",
       "46     1609          1H   94.595788        100  177959212     1  \n",
       "62     1631          1H  179.854785        100  177959247     0  \n",
       "91     1631          1H  254.745027        100  177959280     1  \n",
       "128    1609          1H  425.824035        100  177959289     0  \n",
       "249    1609          1H  815.462015        100  177959429     0  "
      ]
     },
     "execution_count": 7,
     "metadata": {},
     "output_type": "execute_result"
    }
   ],
   "source": [
    "shots.head()"
   ]
  },
  {
   "cell_type": "code",
   "execution_count": 30,
   "metadata": {},
   "outputs": [],
   "source": [
    "half = '2H'\n",
    "isgoal = 0"
   ]
  },
  {
   "cell_type": "code",
   "execution_count": 31,
   "metadata": {},
   "outputs": [],
   "source": [
    "if isgoal:\n",
    "    the_shots = shots[np.logical_and((shots['matchPeriod']==half), (shots['Goal']==1))]['eventSec']\n",
    "else:\n",
    "    the_shots = shots[(shots['matchPeriod']==half)]['eventSec']"
   ]
  },
  {
   "cell_type": "code",
   "execution_count": 32,
   "metadata": {},
   "outputs": [
    {
     "data": {
      "text/plain": [
       "979        231.514689\n",
       "1008       340.664542\n",
       "1099       594.425584\n",
       "1107       634.312236\n",
       "1147       824.618849\n",
       "             ...     \n",
       "642945    1972.969422\n",
       "643023    2193.887080\n",
       "643051    2377.197700\n",
       "643055    2381.481625\n",
       "643149    2834.127168\n",
       "Name: eventSec, Length: 4497, dtype: float64"
      ]
     },
     "execution_count": 32,
     "metadata": {},
     "output_type": "execute_result"
    }
   ],
   "source": [
    "the_shots"
   ]
  },
  {
   "cell_type": "code",
   "execution_count": 33,
   "metadata": {},
   "outputs": [],
   "source": [
    "total_first_half_shots = len(the_shots)\n",
    "number_of_matches = len(np.unique(shots['matchId']))\n",
    "first_half_shots_per_match = total_first_half_shots/number_of_matches\n",
    "first_half_shots_per_min = total_first_half_shots/48"
   ]
  },
  {
   "cell_type": "code",
   "execution_count": 34,
   "metadata": {},
   "outputs": [
    {
     "data": {
      "text/plain": [
       "93.6875"
      ]
     },
     "execution_count": 34,
     "metadata": {},
     "output_type": "execute_result"
    }
   ],
   "source": [
    "first_half_shots_per_min"
   ]
  },
  {
   "cell_type": "code",
   "execution_count": 35,
   "metadata": {},
   "outputs": [],
   "source": [
    "from pylab import rcParams\n",
    "rcParams['figure.figsize'] = 12/2.54, 8/2.54"
   ]
  },
  {
   "cell_type": "code",
   "execution_count": 36,
   "metadata": {},
   "outputs": [
    {
     "data": {
      "text/plain": [
       "<matplotlib.font_manager.FontProperties at 0x7fcef3d4c690>"
      ]
     },
     "execution_count": 36,
     "metadata": {},
     "output_type": "execute_result"
    }
   ],
   "source": [
    "matplotlib.font_manager.FontProperties(family='Helvetica',size=11)"
   ]
  },
  {
   "cell_type": "code",
   "execution_count": 37,
   "metadata": {},
   "outputs": [
    {
     "data": {
      "image/png": "[encoded data removed]",
      "text/plain": [
       "<Figure size 340.157x226.772 with 1 Axes>"
      ]
     },
     "metadata": {
      "needs_background": "light"
     },
     "output_type": "display_data"
    }
   ],
   "source": [
    "fig = plt.figure()\n",
    "ax = fig.add_subplot(1,1,1)\n",
    "\n",
    "#Plot histogram of shots (minutes)\n",
    "plt.hist(the_shots/60, bins = range(0,49))\n",
    "plt.plot([0, 48],[first_half_shots_per_min, first_half_shots_per_min], color='black')\n",
    " \n",
    "ax.spines['left'].set_visible(True)\n",
    "ax.spines['bottom'].set_position('zero')    \n",
    "ax.spines['top'].set_visible(False)\n",
    "ax.spines['right'].set_visible(False)\n",
    "ax.set_xticks(np.arange(0,48,5))\n",
    "ax.set_xlabel('Time elapsed in ' + 'half ' + half[0])\n",
    "if isgoal==0:\n",
    "    ax.set_ylabel('Number of shots over the season')\n",
    "    ax.set_yticks(np.arange(0,120,20))\n",
    "    ax.set_ylim(0,130) \n",
    "else:\n",
    "    ax.set_ylabel('Number of goals over the season')\n",
    "    ax.set_yticks(np.arange(0,20,2))\n",
    "    ax.set_ylim(0,20) \n",
    "    \n",
    "plt.show()  "
   ]
  },
  {
   "cell_type": "code",
   "execution_count": 38,
   "metadata": {},
   "outputs": [],
   "source": [
    "#Save the figure to a pdf\n",
    "if isgoal:\n",
    "    fig.savefig('output/TimesOfGoals' + half +'.pdf' , dpi=None, bbox_inches=\"tight\")\n",
    "else:\n",
    "    fig.savefig('output/TimesOfShots' + half +'.pdf' , dpi=None, bbox_inches=\"tight\")"
   ]
  },
  {
   "cell_type": "code",
   "execution_count": null,
   "metadata": {},
   "outputs": [],
   "source": []
  }
 ],
 "metadata": {
  "kernelspec": {
   "display_name": "Python 3",
   "language": "python",
   "name": "python3"
  },
  "language_info": {
   "codemirror_mode": {
    "name": "ipython",
    "version": 3
   },
   "file_extension": ".py",
   "mimetype": "text/x-python",
   "name": "python",
   "nbconvert_exporter": "python",
   "pygments_lexer": "ipython3",
   "version": "3.7.6"
  }
 },
 "nbformat": 4,
 "nbformat_minor": 4
}
