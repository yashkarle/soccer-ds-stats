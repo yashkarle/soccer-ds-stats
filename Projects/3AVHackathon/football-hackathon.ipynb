{
 "cells": [
  {
   "cell_type": "markdown",
   "id": "764e5fb3",
   "metadata": {},
   "source": [
    "### Introduction and Context\n",
    "\n",
    "Nowadays, large sets of data offer a deep description of both players and team actions during matches. Information contained in such datasets ranges from physical and kinematic variables to complex game-related technical and tactical metrics. Nevertheless, and despite the emergence of such rich and precise datasets, the main open problem keeps being the identification of the key actions that make outstanding the performance of players in the whole spectrum of roles and positions. In this competition, you will use Sevilla FC and FC Bengaluru United's large scouting datasets to relate human-based player evaluations to physical, contextual, kinematic, technical, and tactical variables of players, teams, and opponents. You will produce an algorithm that will be able to decompose the performance of the players into its main fundamental components.\n"
   ]
  },
  {
   "cell_type": "markdown",
   "id": "5eaad53c",
   "metadata": {},
   "source": [
    "### Feature Engineering Rules\n",
    "\n",
    "All the features (excepting rating_num and row_id) are eligible for modeling. \n",
    "Only the following Feature engineering methods is/are allowed in the hackathon:\n",
    "Transformation: Only linear combination (Addition and Subtraction) of the provided features is allowed for creating new features but given the condition that any provided feature can be a part of a maximum of one feature in the definitive feature set either in the form of the original feature or as a linear component of a new engineered feature.\n",
    "Feature Selection is allowed.\n",
    "You can apply a non-linear transformation to individual features but you are not allowed to combine the features in a non-linear way.\n",
    "\n",
    "Hint: Feature importance depends heavily on the value of the feature player_position_2 "
   ]
  },
  {
   "cell_type": "code",
   "execution_count": null,
   "id": "77a906d3",
   "metadata": {},
   "outputs": [],
   "source": []
  }
 ],
 "metadata": {
  "kernelspec": {
   "display_name": "Python 3 (ipykernel)",
   "language": "python",
   "name": "python3"
  },
  "language_info": {
   "codemirror_mode": {
    "name": "ipython",
    "version": 3
   },
   "file_extension": ".py",
   "mimetype": "text/x-python",
   "name": "python",
   "nbconvert_exporter": "python",
   "pygments_lexer": "ipython3",
   "version": "3.9.9"
  }
 },
 "nbformat": 4,
 "nbformat_minor": 5
}
