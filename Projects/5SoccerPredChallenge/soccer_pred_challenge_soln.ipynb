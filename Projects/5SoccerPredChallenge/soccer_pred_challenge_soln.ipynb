{
 "cells": [
  {
   "cell_type": "code",
   "execution_count": 2,
   "id": "8bc62888-c593-40df-b38b-6217c96166e5",
   "metadata": {},
   "outputs": [],
   "source": [
    "import pandas as pd"
   ]
  },
  {
   "cell_type": "code",
   "execution_count": 5,
   "id": "71f1db81-1e25-4d0a-9437-036d837b7d3c",
   "metadata": {},
   "outputs": [
    {
     "name": "stdout",
     "output_type": "stream",
     "text": [
      "<class 'pandas.core.frame.DataFrame'>\n",
      "RangeIndex: 299214 entries, 0 to 299213\n",
      "Data columns (total 9 columns):\n",
      " #   Column  Non-Null Count   Dtype \n",
      "---  ------  --------------   ----- \n",
      " 0   Sea     299214 non-null  object\n",
      " 1   Lge     299214 non-null  object\n",
      " 2   Date    299214 non-null  object\n",
      " 3   HT      299214 non-null  object\n",
      " 4   AT      299214 non-null  object\n",
      " 5   HS      299214 non-null  int64 \n",
      " 6   AS      299214 non-null  int64 \n",
      " 7   GD      299214 non-null  int64 \n",
      " 8   WDL     299214 non-null  object\n",
      "dtypes: int64(3), object(6)\n",
      "memory usage: 20.5+ MB\n"
     ]
    }
   ],
   "source": [
    "train_df = pd.read_csv('./data/TrainingSet_2023_02_08.csv')\n",
    "train_df.info()"
   ]
  },
  {
   "cell_type": "code",
   "execution_count": 6,
   "id": "0ae985ac-e16b-4dd2-84b9-e0299414b29b",
   "metadata": {},
   "outputs": [
    {
     "data": {
      "text/html": [
       "<div>\n",
       "<style scoped>\n",
       "    .dataframe tbody tr th:only-of-type {\n",
       "        vertical-align: middle;\n",
       "    }\n",
       "\n",
       "    .dataframe tbody tr th {\n",
       "        vertical-align: top;\n",
       "    }\n",
       "\n",
       "    .dataframe thead th {\n",
       "        text-align: right;\n",
       "    }\n",
       "</style>\n",
       "<table border=\"1\" class=\"dataframe\">\n",
       "  <thead>\n",
       "    <tr style=\"text-align: right;\">\n",
       "      <th></th>\n",
       "      <th>Sea</th>\n",
       "      <th>Lge</th>\n",
       "      <th>Date</th>\n",
       "      <th>HT</th>\n",
       "      <th>AT</th>\n",
       "      <th>HS</th>\n",
       "      <th>AS</th>\n",
       "      <th>GD</th>\n",
       "      <th>WDL</th>\n",
       "    </tr>\n",
       "  </thead>\n",
       "  <tbody>\n",
       "    <tr>\n",
       "      <th>0</th>\n",
       "      <td>00-01</td>\n",
       "      <td>GER1</td>\n",
       "      <td>11/08/2000</td>\n",
       "      <td>Dortmund</td>\n",
       "      <td>Hansa Rostock</td>\n",
       "      <td>1</td>\n",
       "      <td>0</td>\n",
       "      <td>1</td>\n",
       "      <td>W</td>\n",
       "    </tr>\n",
       "    <tr>\n",
       "      <th>1</th>\n",
       "      <td>00-01</td>\n",
       "      <td>GER1</td>\n",
       "      <td>12/08/2000</td>\n",
       "      <td>Bayern Munich</td>\n",
       "      <td>Hertha Berlin</td>\n",
       "      <td>4</td>\n",
       "      <td>1</td>\n",
       "      <td>3</td>\n",
       "      <td>W</td>\n",
       "    </tr>\n",
       "    <tr>\n",
       "      <th>2</th>\n",
       "      <td>00-01</td>\n",
       "      <td>GER1</td>\n",
       "      <td>12/08/2000</td>\n",
       "      <td>Freiburg</td>\n",
       "      <td>VfB Stuttgart</td>\n",
       "      <td>4</td>\n",
       "      <td>0</td>\n",
       "      <td>4</td>\n",
       "      <td>W</td>\n",
       "    </tr>\n",
       "    <tr>\n",
       "      <th>3</th>\n",
       "      <td>00-01</td>\n",
       "      <td>GER1</td>\n",
       "      <td>12/08/2000</td>\n",
       "      <td>Hamburger SV</td>\n",
       "      <td>Munich 1860</td>\n",
       "      <td>2</td>\n",
       "      <td>2</td>\n",
       "      <td>0</td>\n",
       "      <td>D</td>\n",
       "    </tr>\n",
       "    <tr>\n",
       "      <th>4</th>\n",
       "      <td>00-01</td>\n",
       "      <td>GER1</td>\n",
       "      <td>12/08/2000</td>\n",
       "      <td>Kaiserslautern</td>\n",
       "      <td>Bochum</td>\n",
       "      <td>0</td>\n",
       "      <td>1</td>\n",
       "      <td>-1</td>\n",
       "      <td>L</td>\n",
       "    </tr>\n",
       "  </tbody>\n",
       "</table>\n",
       "</div>"
      ],
      "text/plain": [
       "     Sea   Lge        Date              HT             AT  HS  AS  GD WDL\n",
       "0  00-01  GER1  11/08/2000        Dortmund  Hansa Rostock   1   0   1   W\n",
       "1  00-01  GER1  12/08/2000   Bayern Munich  Hertha Berlin   4   1   3   W\n",
       "2  00-01  GER1  12/08/2000        Freiburg  VfB Stuttgart   4   0   4   W\n",
       "3  00-01  GER1  12/08/2000    Hamburger SV    Munich 1860   2   2   0   D\n",
       "4  00-01  GER1  12/08/2000  Kaiserslautern         Bochum   0   1  -1   L"
      ]
     },
     "execution_count": 6,
     "metadata": {},
     "output_type": "execute_result"
    }
   ],
   "source": [
    "train_df.head()"
   ]
  },
  {
   "cell_type": "code",
   "execution_count": null,
   "id": "f3b4b81f-448b-4b70-be71-c794046ceef6",
   "metadata": {},
   "outputs": [],
   "source": []
  }
 ],
 "metadata": {
  "kernelspec": {
   "display_name": "Python 3 (ipykernel)",
   "language": "python",
   "name": "python3"
  },
  "language_info": {
   "codemirror_mode": {
    "name": "ipython",
    "version": 3
   },
   "file_extension": ".py",
   "mimetype": "text/x-python",
   "name": "python",
   "nbconvert_exporter": "python",
   "pygments_lexer": "ipython3",
   "version": "3.9.9"
  }
 },
 "nbformat": 4,
 "nbformat_minor": 5
}
